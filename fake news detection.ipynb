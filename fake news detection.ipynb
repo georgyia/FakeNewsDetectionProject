{
 "cells": [
  {
   "cell_type": "code",
   "execution_count": 2,
   "id": "initial_id",
   "metadata": {
    "collapsed": true,
    "ExecuteTime": {
     "end_time": "2023-12-17T23:36:57.480655Z",
     "start_time": "2023-12-17T23:36:57.330010Z"
    }
   },
   "outputs": [],
   "source": [
    "# Importing necessary libraries\n",
    "import pandas as pd\n",
    "import numpy as np\n",
    "import seaborn as sns\n",
    "import matplotlib.pyplot as plt\n",
    "from sklearn.model_selection import train_test_split\n",
    "from sklearn.metrics import accuracy_score\n",
    "from sklearn.metrics import classification_report\n",
    "import re\n",
    "import string"
   ]
  },
  {
   "cell_type": "code",
   "execution_count": 209,
   "outputs": [],
   "source": [
    "# Loading the fake and real datasets\n",
    "data_fake = pd.read_csv(\"/Users/georgychomakhashvili/PycharmProjects/FakeNews/Fake.csv\")\n",
    "data_true = pd.read_csv(\"/Users/georgychomakhashvili/PycharmProjects/FakeNews/True.csv\")"
   ],
   "metadata": {
    "collapsed": false,
    "ExecuteTime": {
     "end_time": "2023-12-17T22:56:54.156288Z",
     "start_time": "2023-12-17T22:56:50.566506Z"
    }
   },
   "id": "41eb857ff80b9282"
  },
  {
   "cell_type": "code",
   "execution_count": 3,
   "outputs": [],
   "source": [
    "# Checking the shape of the datasets\n",
    "data_fake.head()"
   ],
   "metadata": {
    "collapsed": false,
    "ExecuteTime": {
     "end_time": "2023-12-17T23:37:05.497232Z",
     "start_time": "2023-12-17T23:37:04.041331Z"
    }
   },
   "id": "55a119edc3d89fc4"
  },
  {
   "cell_type": "code",
   "execution_count": 4,
   "outputs": [
    {
     "data": {
      "text/plain": "                                               title  \\\n0   Donald Trump Sends Out Embarrassing New Year’...   \n1   Drunk Bragging Trump Staffer Started Russian ...   \n2   Sheriff David Clarke Becomes An Internet Joke...   \n3   Trump Is So Obsessed He Even Has Obama’s Name...   \n4   Pope Francis Just Called Out Donald Trump Dur...   \n\n                                                text subject  \\\n0  Donald Trump just couldn t wish all Americans ...    News   \n1  House Intelligence Committee Chairman Devin Nu...    News   \n2  On Friday, it was revealed that former Milwauk...    News   \n3  On Christmas day, Donald Trump announced that ...    News   \n4  Pope Francis used his annual Christmas Day mes...    News   \n\n                date  \n0  December 31, 2017  \n1  December 31, 2017  \n2  December 30, 2017  \n3  December 29, 2017  \n4  December 25, 2017  ",
      "text/html": "<div>\n<style scoped>\n    .dataframe tbody tr th:only-of-type {\n        vertical-align: middle;\n    }\n\n    .dataframe tbody tr th {\n        vertical-align: top;\n    }\n\n    .dataframe thead th {\n        text-align: right;\n    }\n</style>\n<table border=\"1\" class=\"dataframe\">\n  <thead>\n    <tr style=\"text-align: right;\">\n      <th></th>\n      <th>title</th>\n      <th>text</th>\n      <th>subject</th>\n      <th>date</th>\n    </tr>\n  </thead>\n  <tbody>\n    <tr>\n      <th>0</th>\n      <td>Donald Trump Sends Out Embarrassing New Year’...</td>\n      <td>Donald Trump just couldn t wish all Americans ...</td>\n      <td>News</td>\n      <td>December 31, 2017</td>\n    </tr>\n    <tr>\n      <th>1</th>\n      <td>Drunk Bragging Trump Staffer Started Russian ...</td>\n      <td>House Intelligence Committee Chairman Devin Nu...</td>\n      <td>News</td>\n      <td>December 31, 2017</td>\n    </tr>\n    <tr>\n      <th>2</th>\n      <td>Sheriff David Clarke Becomes An Internet Joke...</td>\n      <td>On Friday, it was revealed that former Milwauk...</td>\n      <td>News</td>\n      <td>December 30, 2017</td>\n    </tr>\n    <tr>\n      <th>3</th>\n      <td>Trump Is So Obsessed He Even Has Obama’s Name...</td>\n      <td>On Christmas day, Donald Trump announced that ...</td>\n      <td>News</td>\n      <td>December 29, 2017</td>\n    </tr>\n    <tr>\n      <th>4</th>\n      <td>Pope Francis Just Called Out Donald Trump Dur...</td>\n      <td>Pope Francis used his annual Christmas Day mes...</td>\n      <td>News</td>\n      <td>December 25, 2017</td>\n    </tr>\n  </tbody>\n</table>\n</div>"
     },
     "execution_count": 4,
     "metadata": {},
     "output_type": "execute_result"
    }
   ],
   "source": [
    "data_true.head()"
   ],
   "metadata": {
    "collapsed": false,
    "ExecuteTime": {
     "end_time": "2023-12-17T23:37:13.033480Z",
     "start_time": "2023-12-17T23:37:12.849029Z"
    }
   },
   "id": "8629f1985b4d2309"
  },
  {
   "cell_type": "code",
   "execution_count": 160,
   "outputs": [],
   "source": [
    "# Assigning a class label to the datasets\n",
    "data_fake[\"class\"] = 0\n",
    "data_true[\"class\"] = 1"
   ],
   "metadata": {
    "collapsed": false,
    "ExecuteTime": {
     "end_time": "2023-12-17T22:00:58.673002Z",
     "start_time": "2023-12-17T22:00:58.562734Z"
    }
   },
   "id": "3e673818bcd17139"
  },
  {
   "cell_type": "code",
   "execution_count": 161,
   "outputs": [
    {
     "data": {
      "text/plain": "((23481, 5), (21417, 5))"
     },
     "execution_count": 161,
     "metadata": {},
     "output_type": "execute_result"
    }
   ],
   "source": [
    "data_fake.shape, data_true.shape"
   ],
   "metadata": {
    "collapsed": false,
    "ExecuteTime": {
     "end_time": "2023-12-17T22:00:58.675703Z",
     "start_time": "2023-12-17T22:00:58.568379Z"
    }
   },
   "id": "4daa5af108518964"
  },
  {
   "cell_type": "code",
   "execution_count": 162,
   "outputs": [],
   "source": [
    "# Creating a manual testing dataset from the tail of the original datasets\n",
    "data_fake_manual_testing = data_fake.tail(10)\n",
    "for i in range(data_fake.shape[0]-1, data_fake.shape[0]-11, -1):\n",
    "    data_fake.drop([i], axis = 0, inplace = True)\n",
    "    \n",
    "data_true_manual_testing = data_true.tail(10)\n",
    "for i in range(data_true.shape[0]-1, data_true.shape[0]-11, -1):\n",
    "    data_true.drop([i], axis = 0, inplace = True)"
   ],
   "metadata": {
    "collapsed": false,
    "ExecuteTime": {
     "end_time": "2023-12-17T22:00:58.850280Z",
     "start_time": "2023-12-17T22:00:58.578526Z"
    }
   },
   "id": "37f520567dba76a9"
  },
  {
   "cell_type": "code",
   "execution_count": 163,
   "outputs": [
    {
     "data": {
      "text/plain": "((23471, 5), (21407, 5))"
     },
     "execution_count": 163,
     "metadata": {},
     "output_type": "execute_result"
    }
   ],
   "source": [
    "data_fake.shape, data_true.shape"
   ],
   "metadata": {
    "collapsed": false,
    "ExecuteTime": {
     "end_time": "2023-12-17T22:00:58.851078Z",
     "start_time": "2023-12-17T22:00:58.619180Z"
    }
   },
   "id": "f00b685159fe92dd"
  },
  {
   "cell_type": "code",
   "execution_count": 164,
   "outputs": [
    {
     "name": "stderr",
     "output_type": "stream",
     "text": [
      "/var/folders/yv/cmb94hwd1zsb37rvdwxyl34r0000gn/T/ipykernel_1122/139271216.py:1: SettingWithCopyWarning: \n",
      "A value is trying to be set on a copy of a slice from a DataFrame.\n",
      "Try using .loc[row_indexer,col_indexer] = value instead\n",
      "\n",
      "See the caveats in the documentation: https://pandas.pydata.org/pandas-docs/stable/user_guide/indexing.html#returning-a-view-versus-a-copy\n",
      "  data_fake_manual_testing[\"class\"] = 0\n",
      "/var/folders/yv/cmb94hwd1zsb37rvdwxyl34r0000gn/T/ipykernel_1122/139271216.py:2: SettingWithCopyWarning: \n",
      "A value is trying to be set on a copy of a slice from a DataFrame.\n",
      "Try using .loc[row_indexer,col_indexer] = value instead\n",
      "\n",
      "See the caveats in the documentation: https://pandas.pydata.org/pandas-docs/stable/user_guide/indexing.html#returning-a-view-versus-a-copy\n",
      "  data_true_manual_testing[\"class\"] = 1\n"
     ]
    }
   ],
   "source": [
    "data_fake_manual_testing[\"class\"] = 0\n",
    "data_true_manual_testing[\"class\"] = 1"
   ],
   "metadata": {
    "collapsed": false,
    "ExecuteTime": {
     "end_time": "2023-12-17T22:00:58.852839Z",
     "start_time": "2023-12-17T22:00:58.627929Z"
    }
   },
   "id": "64b22ce183dce6d9"
  },
  {
   "cell_type": "code",
   "execution_count": 165,
   "outputs": [
    {
     "data": {
      "text/plain": "                                                   title  \\\n23471  Seven Iranians freed in the prisoner swap have...   \n23472                      #Hashtag Hell & The Fake Left   \n23473  Astroturfing: Journalist Reveals Brainwashing ...   \n23474          The New American Century: An Era of Fraud   \n23475  Hillary Clinton: ‘Israel First’ (and no peace ...   \n23476  McPain: John McCain Furious That Iran Treated ...   \n23477  JUSTICE? Yahoo Settles E-mail Privacy Class-ac...   \n23478  Sunnistan: US and Allied ‘Safe Zone’ Plan to T...   \n23479  How to Blow $700 Million: Al Jazeera America F...   \n23480  10 U.S. Navy Sailors Held by Iranian Military ...   \n\n                                                    text      subject  \\\n23471  21st Century Wire says This week, the historic...  Middle-east   \n23472   By Dady Chery and Gilbert MercierAll writers ...  Middle-east   \n23473  Vic Bishop Waking TimesOur reality is carefull...  Middle-east   \n23474  Paul Craig RobertsIn the last years of the 20t...  Middle-east   \n23475  Robert Fantina CounterpunchAlthough the United...  Middle-east   \n23476  21st Century Wire says As 21WIRE reported earl...  Middle-east   \n23477  21st Century Wire says It s a familiar theme. ...  Middle-east   \n23478  Patrick Henningsen  21st Century WireRemember ...  Middle-east   \n23479  21st Century Wire says Al Jazeera America will...  Middle-east   \n23480  21st Century Wire says As 21WIRE predicted in ...  Middle-east   \n\n                   date  class  \n23471  January 20, 2016      0  \n23472  January 19, 2016      0  \n23473  January 19, 2016      0  \n23474  January 19, 2016      0  \n23475  January 18, 2016      0  \n23476  January 16, 2016      0  \n23477  January 16, 2016      0  \n23478  January 15, 2016      0  \n23479  January 14, 2016      0  \n23480  January 12, 2016      0  ",
      "text/html": "<div>\n<style scoped>\n    .dataframe tbody tr th:only-of-type {\n        vertical-align: middle;\n    }\n\n    .dataframe tbody tr th {\n        vertical-align: top;\n    }\n\n    .dataframe thead th {\n        text-align: right;\n    }\n</style>\n<table border=\"1\" class=\"dataframe\">\n  <thead>\n    <tr style=\"text-align: right;\">\n      <th></th>\n      <th>title</th>\n      <th>text</th>\n      <th>subject</th>\n      <th>date</th>\n      <th>class</th>\n    </tr>\n  </thead>\n  <tbody>\n    <tr>\n      <th>23471</th>\n      <td>Seven Iranians freed in the prisoner swap have...</td>\n      <td>21st Century Wire says This week, the historic...</td>\n      <td>Middle-east</td>\n      <td>January 20, 2016</td>\n      <td>0</td>\n    </tr>\n    <tr>\n      <th>23472</th>\n      <td>#Hashtag Hell &amp; The Fake Left</td>\n      <td>By Dady Chery and Gilbert MercierAll writers ...</td>\n      <td>Middle-east</td>\n      <td>January 19, 2016</td>\n      <td>0</td>\n    </tr>\n    <tr>\n      <th>23473</th>\n      <td>Astroturfing: Journalist Reveals Brainwashing ...</td>\n      <td>Vic Bishop Waking TimesOur reality is carefull...</td>\n      <td>Middle-east</td>\n      <td>January 19, 2016</td>\n      <td>0</td>\n    </tr>\n    <tr>\n      <th>23474</th>\n      <td>The New American Century: An Era of Fraud</td>\n      <td>Paul Craig RobertsIn the last years of the 20t...</td>\n      <td>Middle-east</td>\n      <td>January 19, 2016</td>\n      <td>0</td>\n    </tr>\n    <tr>\n      <th>23475</th>\n      <td>Hillary Clinton: ‘Israel First’ (and no peace ...</td>\n      <td>Robert Fantina CounterpunchAlthough the United...</td>\n      <td>Middle-east</td>\n      <td>January 18, 2016</td>\n      <td>0</td>\n    </tr>\n    <tr>\n      <th>23476</th>\n      <td>McPain: John McCain Furious That Iran Treated ...</td>\n      <td>21st Century Wire says As 21WIRE reported earl...</td>\n      <td>Middle-east</td>\n      <td>January 16, 2016</td>\n      <td>0</td>\n    </tr>\n    <tr>\n      <th>23477</th>\n      <td>JUSTICE? Yahoo Settles E-mail Privacy Class-ac...</td>\n      <td>21st Century Wire says It s a familiar theme. ...</td>\n      <td>Middle-east</td>\n      <td>January 16, 2016</td>\n      <td>0</td>\n    </tr>\n    <tr>\n      <th>23478</th>\n      <td>Sunnistan: US and Allied ‘Safe Zone’ Plan to T...</td>\n      <td>Patrick Henningsen  21st Century WireRemember ...</td>\n      <td>Middle-east</td>\n      <td>January 15, 2016</td>\n      <td>0</td>\n    </tr>\n    <tr>\n      <th>23479</th>\n      <td>How to Blow $700 Million: Al Jazeera America F...</td>\n      <td>21st Century Wire says Al Jazeera America will...</td>\n      <td>Middle-east</td>\n      <td>January 14, 2016</td>\n      <td>0</td>\n    </tr>\n    <tr>\n      <th>23480</th>\n      <td>10 U.S. Navy Sailors Held by Iranian Military ...</td>\n      <td>21st Century Wire says As 21WIRE predicted in ...</td>\n      <td>Middle-east</td>\n      <td>January 12, 2016</td>\n      <td>0</td>\n    </tr>\n  </tbody>\n</table>\n</div>"
     },
     "execution_count": 165,
     "metadata": {},
     "output_type": "execute_result"
    }
   ],
   "source": [
    "data_fake_manual_testing.head(10)"
   ],
   "metadata": {
    "collapsed": false,
    "ExecuteTime": {
     "end_time": "2023-12-17T22:00:59.122298Z",
     "start_time": "2023-12-17T22:00:58.645819Z"
    }
   },
   "id": "15f1e2af60b1e824"
  },
  {
   "cell_type": "code",
   "execution_count": 166,
   "outputs": [
    {
     "data": {
      "text/plain": "                                                   title  \\\n21407  Mata Pires, owner of embattled Brazil builder ...   \n21408  U.S., North Korea clash at U.N. forum over nuc...   \n21409  U.S., North Korea clash at U.N. arms forum on ...   \n21410  Headless torso could belong to submarine journ...   \n21411  North Korea shipments to Syria chemical arms a...   \n21412  'Fully committed' NATO backs new U.S. approach...   \n21413  LexisNexis withdrew two products from Chinese ...   \n21414  Minsk cultural hub becomes haven from authorities   \n21415  Vatican upbeat on possibility of Pope Francis ...   \n21416  Indonesia to buy $1.14 billion worth of Russia...   \n\n                                                    text    subject  \\\n21407  SAO PAULO (Reuters) - Cesar Mata Pires, the ow...  worldnews   \n21408  GENEVA (Reuters) - North Korea and the United ...  worldnews   \n21409  GENEVA (Reuters) - North Korea and the United ...  worldnews   \n21410  COPENHAGEN (Reuters) - Danish police said on T...  worldnews   \n21411  UNITED NATIONS (Reuters) - Two North Korean sh...  worldnews   \n21412  BRUSSELS (Reuters) - NATO allies on Tuesday we...  worldnews   \n21413  LONDON (Reuters) - LexisNexis, a provider of l...  worldnews   \n21414  MINSK (Reuters) - In the shadow of disused Sov...  worldnews   \n21415  MOSCOW (Reuters) - Vatican Secretary of State ...  worldnews   \n21416  JAKARTA (Reuters) - Indonesia will buy 11 Sukh...  worldnews   \n\n                   date  class  \n21407  August 22, 2017       1  \n21408  August 22, 2017       1  \n21409  August 22, 2017       1  \n21410  August 22, 2017       1  \n21411  August 21, 2017       1  \n21412  August 22, 2017       1  \n21413  August 22, 2017       1  \n21414  August 22, 2017       1  \n21415  August 22, 2017       1  \n21416  August 22, 2017       1  ",
      "text/html": "<div>\n<style scoped>\n    .dataframe tbody tr th:only-of-type {\n        vertical-align: middle;\n    }\n\n    .dataframe tbody tr th {\n        vertical-align: top;\n    }\n\n    .dataframe thead th {\n        text-align: right;\n    }\n</style>\n<table border=\"1\" class=\"dataframe\">\n  <thead>\n    <tr style=\"text-align: right;\">\n      <th></th>\n      <th>title</th>\n      <th>text</th>\n      <th>subject</th>\n      <th>date</th>\n      <th>class</th>\n    </tr>\n  </thead>\n  <tbody>\n    <tr>\n      <th>21407</th>\n      <td>Mata Pires, owner of embattled Brazil builder ...</td>\n      <td>SAO PAULO (Reuters) - Cesar Mata Pires, the ow...</td>\n      <td>worldnews</td>\n      <td>August 22, 2017</td>\n      <td>1</td>\n    </tr>\n    <tr>\n      <th>21408</th>\n      <td>U.S., North Korea clash at U.N. forum over nuc...</td>\n      <td>GENEVA (Reuters) - North Korea and the United ...</td>\n      <td>worldnews</td>\n      <td>August 22, 2017</td>\n      <td>1</td>\n    </tr>\n    <tr>\n      <th>21409</th>\n      <td>U.S., North Korea clash at U.N. arms forum on ...</td>\n      <td>GENEVA (Reuters) - North Korea and the United ...</td>\n      <td>worldnews</td>\n      <td>August 22, 2017</td>\n      <td>1</td>\n    </tr>\n    <tr>\n      <th>21410</th>\n      <td>Headless torso could belong to submarine journ...</td>\n      <td>COPENHAGEN (Reuters) - Danish police said on T...</td>\n      <td>worldnews</td>\n      <td>August 22, 2017</td>\n      <td>1</td>\n    </tr>\n    <tr>\n      <th>21411</th>\n      <td>North Korea shipments to Syria chemical arms a...</td>\n      <td>UNITED NATIONS (Reuters) - Two North Korean sh...</td>\n      <td>worldnews</td>\n      <td>August 21, 2017</td>\n      <td>1</td>\n    </tr>\n    <tr>\n      <th>21412</th>\n      <td>'Fully committed' NATO backs new U.S. approach...</td>\n      <td>BRUSSELS (Reuters) - NATO allies on Tuesday we...</td>\n      <td>worldnews</td>\n      <td>August 22, 2017</td>\n      <td>1</td>\n    </tr>\n    <tr>\n      <th>21413</th>\n      <td>LexisNexis withdrew two products from Chinese ...</td>\n      <td>LONDON (Reuters) - LexisNexis, a provider of l...</td>\n      <td>worldnews</td>\n      <td>August 22, 2017</td>\n      <td>1</td>\n    </tr>\n    <tr>\n      <th>21414</th>\n      <td>Minsk cultural hub becomes haven from authorities</td>\n      <td>MINSK (Reuters) - In the shadow of disused Sov...</td>\n      <td>worldnews</td>\n      <td>August 22, 2017</td>\n      <td>1</td>\n    </tr>\n    <tr>\n      <th>21415</th>\n      <td>Vatican upbeat on possibility of Pope Francis ...</td>\n      <td>MOSCOW (Reuters) - Vatican Secretary of State ...</td>\n      <td>worldnews</td>\n      <td>August 22, 2017</td>\n      <td>1</td>\n    </tr>\n    <tr>\n      <th>21416</th>\n      <td>Indonesia to buy $1.14 billion worth of Russia...</td>\n      <td>JAKARTA (Reuters) - Indonesia will buy 11 Sukh...</td>\n      <td>worldnews</td>\n      <td>August 22, 2017</td>\n      <td>1</td>\n    </tr>\n  </tbody>\n</table>\n</div>"
     },
     "execution_count": 166,
     "metadata": {},
     "output_type": "execute_result"
    }
   ],
   "source": [
    "data_true_manual_testing.head(10)"
   ],
   "metadata": {
    "collapsed": false,
    "ExecuteTime": {
     "end_time": "2023-12-17T22:00:59.123492Z",
     "start_time": "2023-12-17T22:00:58.652989Z"
    }
   },
   "id": "205f889bfc84822"
  },
  {
   "cell_type": "code",
   "execution_count": 167,
   "outputs": [
    {
     "data": {
      "text/plain": "                                               title  \\\n0   Donald Trump Sends Out Embarrassing New Year’...   \n1   Drunk Bragging Trump Staffer Started Russian ...   \n2   Sheriff David Clarke Becomes An Internet Joke...   \n3   Trump Is So Obsessed He Even Has Obama’s Name...   \n4   Pope Francis Just Called Out Donald Trump Dur...   \n5   Racist Alabama Cops Brutalize Black Boy While...   \n6   Fresh Off The Golf Course, Trump Lashes Out A...   \n7   Trump Said Some INSANELY Racist Stuff Inside ...   \n8   Former CIA Director Slams Trump Over UN Bully...   \n9   WATCH: Brand-New Pro-Trump Ad Features So Muc...   \n\n                                                text subject  \\\n0  Donald Trump just couldn t wish all Americans ...    News   \n1  House Intelligence Committee Chairman Devin Nu...    News   \n2  On Friday, it was revealed that former Milwauk...    News   \n3  On Christmas day, Donald Trump announced that ...    News   \n4  Pope Francis used his annual Christmas Day mes...    News   \n5  The number of cases of cops brutalizing and ki...    News   \n6  Donald Trump spent a good portion of his day a...    News   \n7  In the wake of yet another court decision that...    News   \n8  Many people have raised the alarm regarding th...    News   \n9  Just when you might have thought we d get a br...    News   \n\n                date  class  \n0  December 31, 2017      0  \n1  December 31, 2017      0  \n2  December 30, 2017      0  \n3  December 29, 2017      0  \n4  December 25, 2017      0  \n5  December 25, 2017      0  \n6  December 23, 2017      0  \n7  December 23, 2017      0  \n8  December 22, 2017      0  \n9  December 21, 2017      0  ",
      "text/html": "<div>\n<style scoped>\n    .dataframe tbody tr th:only-of-type {\n        vertical-align: middle;\n    }\n\n    .dataframe tbody tr th {\n        vertical-align: top;\n    }\n\n    .dataframe thead th {\n        text-align: right;\n    }\n</style>\n<table border=\"1\" class=\"dataframe\">\n  <thead>\n    <tr style=\"text-align: right;\">\n      <th></th>\n      <th>title</th>\n      <th>text</th>\n      <th>subject</th>\n      <th>date</th>\n      <th>class</th>\n    </tr>\n  </thead>\n  <tbody>\n    <tr>\n      <th>0</th>\n      <td>Donald Trump Sends Out Embarrassing New Year’...</td>\n      <td>Donald Trump just couldn t wish all Americans ...</td>\n      <td>News</td>\n      <td>December 31, 2017</td>\n      <td>0</td>\n    </tr>\n    <tr>\n      <th>1</th>\n      <td>Drunk Bragging Trump Staffer Started Russian ...</td>\n      <td>House Intelligence Committee Chairman Devin Nu...</td>\n      <td>News</td>\n      <td>December 31, 2017</td>\n      <td>0</td>\n    </tr>\n    <tr>\n      <th>2</th>\n      <td>Sheriff David Clarke Becomes An Internet Joke...</td>\n      <td>On Friday, it was revealed that former Milwauk...</td>\n      <td>News</td>\n      <td>December 30, 2017</td>\n      <td>0</td>\n    </tr>\n    <tr>\n      <th>3</th>\n      <td>Trump Is So Obsessed He Even Has Obama’s Name...</td>\n      <td>On Christmas day, Donald Trump announced that ...</td>\n      <td>News</td>\n      <td>December 29, 2017</td>\n      <td>0</td>\n    </tr>\n    <tr>\n      <th>4</th>\n      <td>Pope Francis Just Called Out Donald Trump Dur...</td>\n      <td>Pope Francis used his annual Christmas Day mes...</td>\n      <td>News</td>\n      <td>December 25, 2017</td>\n      <td>0</td>\n    </tr>\n    <tr>\n      <th>5</th>\n      <td>Racist Alabama Cops Brutalize Black Boy While...</td>\n      <td>The number of cases of cops brutalizing and ki...</td>\n      <td>News</td>\n      <td>December 25, 2017</td>\n      <td>0</td>\n    </tr>\n    <tr>\n      <th>6</th>\n      <td>Fresh Off The Golf Course, Trump Lashes Out A...</td>\n      <td>Donald Trump spent a good portion of his day a...</td>\n      <td>News</td>\n      <td>December 23, 2017</td>\n      <td>0</td>\n    </tr>\n    <tr>\n      <th>7</th>\n      <td>Trump Said Some INSANELY Racist Stuff Inside ...</td>\n      <td>In the wake of yet another court decision that...</td>\n      <td>News</td>\n      <td>December 23, 2017</td>\n      <td>0</td>\n    </tr>\n    <tr>\n      <th>8</th>\n      <td>Former CIA Director Slams Trump Over UN Bully...</td>\n      <td>Many people have raised the alarm regarding th...</td>\n      <td>News</td>\n      <td>December 22, 2017</td>\n      <td>0</td>\n    </tr>\n    <tr>\n      <th>9</th>\n      <td>WATCH: Brand-New Pro-Trump Ad Features So Muc...</td>\n      <td>Just when you might have thought we d get a br...</td>\n      <td>News</td>\n      <td>December 21, 2017</td>\n      <td>0</td>\n    </tr>\n  </tbody>\n</table>\n</div>"
     },
     "execution_count": 167,
     "metadata": {},
     "output_type": "execute_result"
    }
   ],
   "source": [
    "# Merging the fake and real datasets\n",
    "data_merge = pd.concat([data_fake, data_true], axis = 0)\n",
    "data_merge.head(10)"
   ],
   "metadata": {
    "collapsed": false,
    "ExecuteTime": {
     "end_time": "2023-12-17T22:00:59.124578Z",
     "start_time": "2023-12-17T22:00:58.657860Z"
    }
   },
   "id": "90063272952786e7"
  },
  {
   "cell_type": "code",
   "execution_count": 168,
   "outputs": [
    {
     "data": {
      "text/plain": "Index(['title', 'text', 'subject', 'date', 'class'], dtype='object')"
     },
     "execution_count": 168,
     "metadata": {},
     "output_type": "execute_result"
    }
   ],
   "source": [
    "data_merge.columns"
   ],
   "metadata": {
    "collapsed": false,
    "ExecuteTime": {
     "end_time": "2023-12-17T22:00:59.127172Z",
     "start_time": "2023-12-17T22:00:58.667098Z"
    }
   },
   "id": "9be703f1b923ef3c"
  },
  {
   "cell_type": "code",
   "execution_count": 169,
   "outputs": [],
   "source": [
    "data = data_merge.drop([\"title\", \"subject\", \"date\"], axis = 1)"
   ],
   "metadata": {
    "collapsed": false,
    "ExecuteTime": {
     "end_time": "2023-12-17T22:00:59.170177Z",
     "start_time": "2023-12-17T22:00:58.679425Z"
    }
   },
   "id": "2938157d690886e4"
  },
  {
   "cell_type": "code",
   "execution_count": 170,
   "outputs": [
    {
     "data": {
      "text/plain": "text     0\nclass    0\ndtype: int64"
     },
     "execution_count": 170,
     "metadata": {},
     "output_type": "execute_result"
    }
   ],
   "source": [
    "data.isnull().sum()"
   ],
   "metadata": {
    "collapsed": false,
    "ExecuteTime": {
     "end_time": "2023-12-17T22:00:59.329813Z",
     "start_time": "2023-12-17T22:00:58.689097Z"
    }
   },
   "id": "46d0840b4058b6f2"
  },
  {
   "cell_type": "code",
   "execution_count": 171,
   "outputs": [],
   "source": [
    "data = data.sample(frac = 1)"
   ],
   "metadata": {
    "collapsed": false,
    "ExecuteTime": {
     "end_time": "2023-12-17T22:00:59.330156Z",
     "start_time": "2023-12-17T22:00:58.700364Z"
    }
   },
   "id": "6ee007c2b52c7384"
  },
  {
   "cell_type": "code",
   "execution_count": 172,
   "outputs": [
    {
     "data": {
      "text/plain": "                                                    text  class\n4267   With 28 days left to go until election day, a ...      0\n19446                                                         0\n11026  FORMER WHITE HOUSE ADVISOR STEPHANIE CUTTER to...      0\n11815  The Democratic Party held a forum for race obs...      0\n19124  Description advertising racist wear from Faceb...      0",
      "text/html": "<div>\n<style scoped>\n    .dataframe tbody tr th:only-of-type {\n        vertical-align: middle;\n    }\n\n    .dataframe tbody tr th {\n        vertical-align: top;\n    }\n\n    .dataframe thead th {\n        text-align: right;\n    }\n</style>\n<table border=\"1\" class=\"dataframe\">\n  <thead>\n    <tr style=\"text-align: right;\">\n      <th></th>\n      <th>text</th>\n      <th>class</th>\n    </tr>\n  </thead>\n  <tbody>\n    <tr>\n      <th>4267</th>\n      <td>With 28 days left to go until election day, a ...</td>\n      <td>0</td>\n    </tr>\n    <tr>\n      <th>19446</th>\n      <td></td>\n      <td>0</td>\n    </tr>\n    <tr>\n      <th>11026</th>\n      <td>FORMER WHITE HOUSE ADVISOR STEPHANIE CUTTER to...</td>\n      <td>0</td>\n    </tr>\n    <tr>\n      <th>11815</th>\n      <td>The Democratic Party held a forum for race obs...</td>\n      <td>0</td>\n    </tr>\n    <tr>\n      <th>19124</th>\n      <td>Description advertising racist wear from Faceb...</td>\n      <td>0</td>\n    </tr>\n  </tbody>\n</table>\n</div>"
     },
     "execution_count": 172,
     "metadata": {},
     "output_type": "execute_result"
    }
   ],
   "source": [
    "data.head()"
   ],
   "metadata": {
    "collapsed": false,
    "ExecuteTime": {
     "end_time": "2023-12-17T22:00:59.332009Z",
     "start_time": "2023-12-17T22:00:58.711685Z"
    }
   },
   "id": "cd96b112d9e49732"
  },
  {
   "cell_type": "code",
   "execution_count": 173,
   "outputs": [],
   "source": [
    "# Resetting the index of the dataset\n",
    "data.reset_index(inplace = True)\n",
    "data.drop([\"index\"], axis = 1, inplace = True)"
   ],
   "metadata": {
    "collapsed": false,
    "ExecuteTime": {
     "end_time": "2023-12-17T22:00:59.365206Z",
     "start_time": "2023-12-17T22:00:58.717206Z"
    }
   },
   "id": "8797ba10bb4ba083"
  },
  {
   "cell_type": "code",
   "execution_count": 174,
   "outputs": [
    {
     "data": {
      "text/plain": "Index(['text', 'class'], dtype='object')"
     },
     "execution_count": 174,
     "metadata": {},
     "output_type": "execute_result"
    }
   ],
   "source": [
    "data.columns"
   ],
   "metadata": {
    "collapsed": false,
    "ExecuteTime": {
     "end_time": "2023-12-17T22:00:59.373262Z",
     "start_time": "2023-12-17T22:00:58.722846Z"
    }
   },
   "id": "48d80d3f0bed0dbd"
  },
  {
   "cell_type": "code",
   "execution_count": 175,
   "outputs": [
    {
     "data": {
      "text/plain": "                                                text  class\n0  With 28 days left to go until election day, a ...      0\n1                                                         0\n2  FORMER WHITE HOUSE ADVISOR STEPHANIE CUTTER to...      0\n3  The Democratic Party held a forum for race obs...      0\n4  Description advertising racist wear from Faceb...      0",
      "text/html": "<div>\n<style scoped>\n    .dataframe tbody tr th:only-of-type {\n        vertical-align: middle;\n    }\n\n    .dataframe tbody tr th {\n        vertical-align: top;\n    }\n\n    .dataframe thead th {\n        text-align: right;\n    }\n</style>\n<table border=\"1\" class=\"dataframe\">\n  <thead>\n    <tr style=\"text-align: right;\">\n      <th></th>\n      <th>text</th>\n      <th>class</th>\n    </tr>\n  </thead>\n  <tbody>\n    <tr>\n      <th>0</th>\n      <td>With 28 days left to go until election day, a ...</td>\n      <td>0</td>\n    </tr>\n    <tr>\n      <th>1</th>\n      <td></td>\n      <td>0</td>\n    </tr>\n    <tr>\n      <th>2</th>\n      <td>FORMER WHITE HOUSE ADVISOR STEPHANIE CUTTER to...</td>\n      <td>0</td>\n    </tr>\n    <tr>\n      <th>3</th>\n      <td>The Democratic Party held a forum for race obs...</td>\n      <td>0</td>\n    </tr>\n    <tr>\n      <th>4</th>\n      <td>Description advertising racist wear from Faceb...</td>\n      <td>0</td>\n    </tr>\n  </tbody>\n</table>\n</div>"
     },
     "execution_count": 175,
     "metadata": {},
     "output_type": "execute_result"
    }
   ],
   "source": [
    "data.head()"
   ],
   "metadata": {
    "collapsed": false,
    "ExecuteTime": {
     "end_time": "2023-12-17T22:00:59.374287Z",
     "start_time": "2023-12-17T22:00:58.728429Z"
    }
   },
   "id": "f829ee97048861f6"
  },
  {
   "cell_type": "code",
   "execution_count": 176,
   "outputs": [],
   "source": [
    "# A function to preprocess the text\n",
    "def wordopt(text):\n",
    "    text = text.lower()\n",
    "    text = re.sub(\"\\[.*?\\]\", \"\", text)\n",
    "    text = re.sub(\"\\\\W\",\" \", text)\n",
    "    text = re.sub(\"https?://\\S+|www\\.\\S+\", \"\", text)\n",
    "    text = re.sub(\"<.*?>+\", \"\", text)\n",
    "    text = re.sub(\"[%s]\" % re.escape(string.punctuation), \"\", text)\n",
    "    text = re. sub(\"\\n\", \"\", text)\n",
    "    text = re.sub(\"\\w*\\d\\w*\", \"\", text)\n",
    "    return text"
   ],
   "metadata": {
    "collapsed": false,
    "ExecuteTime": {
     "end_time": "2023-12-17T22:00:59.374429Z",
     "start_time": "2023-12-17T22:00:58.734437Z"
    }
   },
   "id": "9fe628668e4c1e56"
  },
  {
   "cell_type": "code",
   "execution_count": 177,
   "outputs": [],
   "source": [
    "# Applying the preprocessing function to the 'text' column\n",
    "data[\"text\"] = data[\"text\"].apply(wordopt)"
   ],
   "metadata": {
    "collapsed": false,
    "ExecuteTime": {
     "end_time": "2023-12-17T22:01:22.737827Z",
     "start_time": "2023-12-17T22:00:58.738350Z"
    }
   },
   "id": "fd3ed302ab1a799"
  },
  {
   "cell_type": "code",
   "execution_count": 178,
   "outputs": [],
   "source": [
    "# Splitting the data into features and target variable\n",
    "x = data[\"text\"]\n",
    "y = data[\"class\"]"
   ],
   "metadata": {
    "collapsed": false,
    "ExecuteTime": {
     "end_time": "2023-12-17T22:01:23.276160Z",
     "start_time": "2023-12-17T22:01:23.273206Z"
    }
   },
   "id": "a767317886f16ec1"
  },
  {
   "cell_type": "code",
   "execution_count": 179,
   "outputs": [],
   "source": [
    "# Splitting the dataset into training and testing sets\n",
    "x_train, x_test, y_train, y_test = train_test_split(x,y, test_size = 0.25)"
   ],
   "metadata": {
    "collapsed": false,
    "ExecuteTime": {
     "end_time": "2023-12-17T22:01:23.326618Z",
     "start_time": "2023-12-17T22:01:23.285189Z"
    }
   },
   "id": "8bf33832604fbe7d"
  },
  {
   "cell_type": "code",
   "execution_count": 180,
   "outputs": [],
   "source": [
    "from sklearn.feature_extraction.text import TfidfVectorizer\n",
    "\n",
    "vectorization = TfidfVectorizer()\n",
    "\n",
    "# Fitting the vectorizer to the training data and transforming the training data into a matrix of TF-IDF features\n",
    "xv_train = vectorization.fit_transform(x_train)\n",
    "\n",
    "# Transforming the test data into a matrix of TF-IDF features using the vectorizer fitted to the training data\n",
    "xv_test = vectorization.transform(x_test)"
   ],
   "metadata": {
    "collapsed": false,
    "ExecuteTime": {
     "end_time": "2023-12-17T22:01:35.766343Z",
     "start_time": "2023-12-17T22:01:23.377938Z"
    }
   },
   "id": "e2a2dd90456631d7"
  },
  {
   "cell_type": "code",
   "execution_count": 181,
   "outputs": [
    {
     "data": {
      "text/plain": "LogisticRegression()"
     },
     "execution_count": 181,
     "metadata": {},
     "output_type": "execute_result"
    }
   ],
   "source": [
    "from sklearn.linear_model import LogisticRegression\n",
    "\n",
    "# Training the Logistic Regression model\n",
    "LR = LogisticRegression()\n",
    "LR.fit(xv_train, y_train)"
   ],
   "metadata": {
    "collapsed": false,
    "ExecuteTime": {
     "end_time": "2023-12-17T22:01:39.090732Z",
     "start_time": "2023-12-17T22:01:35.743128Z"
    }
   },
   "id": "e6e31a443a03e0eb"
  },
  {
   "cell_type": "code",
   "execution_count": 182,
   "outputs": [],
   "source": [
    "# Predicting the test set results and calculating the accuracy\n",
    "pred_lr = LR.predict(xv_test)"
   ],
   "metadata": {
    "collapsed": false,
    "ExecuteTime": {
     "end_time": "2023-12-17T22:01:39.111974Z",
     "start_time": "2023-12-17T22:01:38.849774Z"
    }
   },
   "id": "485c1c33dde1cef0"
  },
  {
   "cell_type": "code",
   "execution_count": 183,
   "outputs": [
    {
     "data": {
      "text/plain": "0.9868092691622103"
     },
     "execution_count": 183,
     "metadata": {},
     "output_type": "execute_result"
    }
   ],
   "source": [
    "LR.score(xv_test, y_test)"
   ],
   "metadata": {
    "collapsed": false,
    "ExecuteTime": {
     "end_time": "2023-12-17T22:01:39.113345Z",
     "start_time": "2023-12-17T22:01:38.865255Z"
    }
   },
   "id": "7cdd217c9b0a69d5"
  },
  {
   "cell_type": "code",
   "execution_count": 184,
   "outputs": [
    {
     "name": "stdout",
     "output_type": "stream",
     "text": [
      "              precision    recall  f1-score   support\n",
      "\n",
      "           0       0.99      0.99      0.99      5939\n",
      "           1       0.98      0.99      0.99      5281\n",
      "\n",
      "    accuracy                           0.99     11220\n",
      "   macro avg       0.99      0.99      0.99     11220\n",
      "weighted avg       0.99      0.99      0.99     11220\n"
     ]
    }
   ],
   "source": [
    "print(classification_report(y_test, pred_lr))"
   ],
   "metadata": {
    "collapsed": false,
    "ExecuteTime": {
     "end_time": "2023-12-17T22:01:39.115974Z",
     "start_time": "2023-12-17T22:01:38.871272Z"
    }
   },
   "id": "ab9e828c7a7db7a9"
  },
  {
   "cell_type": "code",
   "execution_count": 185,
   "outputs": [
    {
     "data": {
      "text/plain": "DecisionTreeClassifier()"
     },
     "execution_count": 185,
     "metadata": {},
     "output_type": "execute_result"
    }
   ],
   "source": [
    "from sklearn.tree import DecisionTreeClassifier\n",
    "\n",
    "# Training the Decision Tree model\n",
    "DT = DecisionTreeClassifier()\n",
    "DT.fit(xv_train, y_train)"
   ],
   "metadata": {
    "collapsed": false,
    "ExecuteTime": {
     "end_time": "2023-12-17T22:02:08.243865Z",
     "start_time": "2023-12-17T22:01:38.896784Z"
    }
   },
   "id": "80d062eaf71d6490"
  },
  {
   "cell_type": "code",
   "execution_count": 186,
   "outputs": [],
   "source": [
    "# Predicting the test set results and calculating the accuracy\n",
    "pred_dt = DT.predict(xv_test)"
   ],
   "metadata": {
    "collapsed": false,
    "ExecuteTime": {
     "end_time": "2023-12-17T22:02:08.451681Z",
     "start_time": "2023-12-17T22:02:08.217250Z"
    }
   },
   "id": "2e0278850e14fc8d"
  },
  {
   "cell_type": "code",
   "execution_count": 187,
   "outputs": [
    {
     "data": {
      "text/plain": "0.9951871657754011"
     },
     "execution_count": 187,
     "metadata": {},
     "output_type": "execute_result"
    }
   ],
   "source": [
    "DT.score(xv_test, y_test)"
   ],
   "metadata": {
    "collapsed": false,
    "ExecuteTime": {
     "end_time": "2023-12-17T22:02:08.497664Z",
     "start_time": "2023-12-17T22:02:08.361344Z"
    }
   },
   "id": "f440afc0ec5f21bc"
  },
  {
   "cell_type": "code",
   "execution_count": 188,
   "outputs": [
    {
     "name": "stdout",
     "output_type": "stream",
     "text": [
      "              precision    recall  f1-score   support\n",
      "\n",
      "           0       1.00      1.00      1.00      5939\n",
      "           1       1.00      0.99      0.99      5281\n",
      "\n",
      "    accuracy                           1.00     11220\n",
      "   macro avg       1.00      1.00      1.00     11220\n",
      "weighted avg       1.00      1.00      1.00     11220\n"
     ]
    }
   ],
   "source": [
    "print(classification_report(y_test, pred_dt))"
   ],
   "metadata": {
    "collapsed": false,
    "ExecuteTime": {
     "end_time": "2023-12-17T22:02:08.499196Z",
     "start_time": "2023-12-17T22:02:08.377791Z"
    }
   },
   "id": "a98582997e787a08"
  },
  {
   "cell_type": "code",
   "execution_count": 189,
   "outputs": [
    {
     "data": {
      "text/plain": "GradientBoostingClassifier(random_state=0)"
     },
     "execution_count": 189,
     "metadata": {},
     "output_type": "execute_result"
    }
   ],
   "source": [
    "from sklearn.ensemble import GradientBoostingClassifier\n",
    "\n",
    "# Training the Gradient Boosting model\n",
    "GB = GradientBoostingClassifier(random_state = 0)\n",
    "GB.fit(xv_train, y_train)"
   ],
   "metadata": {
    "collapsed": false,
    "ExecuteTime": {
     "end_time": "2023-12-17T22:05:58.250893Z",
     "start_time": "2023-12-17T22:02:08.399893Z"
    }
   },
   "id": "f6b10962d0759f7c"
  },
  {
   "cell_type": "code",
   "execution_count": 190,
   "outputs": [],
   "source": [
    "# Predicting the test set results and calculating the accuracy\n",
    "pred_gb = GB.predict(xv_test)"
   ],
   "metadata": {
    "collapsed": false,
    "ExecuteTime": {
     "end_time": "2023-12-17T22:05:58.389361Z",
     "start_time": "2023-12-17T22:05:58.205817Z"
    }
   },
   "id": "10a1252e187c747b"
  },
  {
   "cell_type": "code",
   "execution_count": 191,
   "outputs": [
    {
     "data": {
      "text/plain": "0.9958110516934047"
     },
     "execution_count": 191,
     "metadata": {},
     "output_type": "execute_result"
    }
   ],
   "source": [
    "GB.score(xv_test, y_test)"
   ],
   "metadata": {
    "collapsed": false,
    "ExecuteTime": {
     "end_time": "2023-12-17T22:05:58.634086Z",
     "start_time": "2023-12-17T22:05:58.355292Z"
    }
   },
   "id": "51e534249d56b681"
  },
  {
   "cell_type": "code",
   "execution_count": 192,
   "outputs": [
    {
     "name": "stdout",
     "output_type": "stream",
     "text": [
      "              precision    recall  f1-score   support\n",
      "\n",
      "           0       1.00      0.99      1.00      5939\n",
      "           1       0.99      1.00      1.00      5281\n",
      "\n",
      "    accuracy                           1.00     11220\n",
      "   macro avg       1.00      1.00      1.00     11220\n",
      "weighted avg       1.00      1.00      1.00     11220\n"
     ]
    }
   ],
   "source": [
    "print(classification_report(y_test, pred_gb))"
   ],
   "metadata": {
    "collapsed": false,
    "ExecuteTime": {
     "end_time": "2023-12-17T22:05:58.668604Z",
     "start_time": "2023-12-17T22:05:58.356428Z"
    }
   },
   "id": "4f3af706f66efc22"
  },
  {
   "cell_type": "code",
   "execution_count": 193,
   "outputs": [
    {
     "data": {
      "text/plain": "RandomForestClassifier(random_state=0)"
     },
     "execution_count": 193,
     "metadata": {},
     "output_type": "execute_result"
    }
   ],
   "source": [
    "from sklearn.ensemble import RandomForestClassifier\n",
    "\n",
    "# Training the Random Forest model\n",
    "RF = RandomForestClassifier(random_state = 0)\n",
    "RF.fit(xv_train, y_train)"
   ],
   "metadata": {
    "collapsed": false,
    "ExecuteTime": {
     "end_time": "2023-12-17T22:06:45.123167Z",
     "start_time": "2023-12-17T22:05:58.357203Z"
    }
   },
   "id": "72490da27f9dd8ba"
  },
  {
   "cell_type": "code",
   "execution_count": 194,
   "outputs": [],
   "source": [
    "# Predicting the test set results and calculating the accuracy\n",
    "pred_rf = RF.predict(xv_test)"
   ],
   "metadata": {
    "collapsed": false,
    "ExecuteTime": {
     "end_time": "2023-12-17T22:06:45.931449Z",
     "start_time": "2023-12-17T22:06:45.116576Z"
    }
   },
   "id": "33b6076cc538ceb1"
  },
  {
   "cell_type": "code",
   "execution_count": 195,
   "outputs": [
    {
     "data": {
      "text/plain": "0.989572192513369"
     },
     "execution_count": 195,
     "metadata": {},
     "output_type": "execute_result"
    }
   ],
   "source": [
    "RF.score(xv_test, y_test)"
   ],
   "metadata": {
    "collapsed": false,
    "ExecuteTime": {
     "end_time": "2023-12-17T22:06:46.598786Z",
     "start_time": "2023-12-17T22:06:45.927719Z"
    }
   },
   "id": "8db27d1a139dd238"
  },
  {
   "cell_type": "code",
   "execution_count": 196,
   "outputs": [
    {
     "name": "stdout",
     "output_type": "stream",
     "text": [
      "              precision    recall  f1-score   support\n",
      "\n",
      "           0       0.99      0.99      0.99      5939\n",
      "           1       0.99      0.99      0.99      5281\n",
      "\n",
      "    accuracy                           0.99     11220\n",
      "   macro avg       0.99      0.99      0.99     11220\n",
      "weighted avg       0.99      0.99      0.99     11220\n"
     ]
    }
   ],
   "source": [
    "print(classification_report(y_test, pred_rf))"
   ],
   "metadata": {
    "collapsed": false,
    "ExecuteTime": {
     "end_time": "2023-12-17T22:06:46.683079Z",
     "start_time": "2023-12-17T22:06:46.611822Z"
    }
   },
   "id": "36aa1b3d23bfd69d"
  },
  {
   "cell_type": "code",
   "execution_count": 197,
   "outputs": [],
   "source": [
    "# A function to output the label\n",
    "def output_lable(n):\n",
    "    if n == 0:\n",
    "        return \"Fake News\"\n",
    "    elif n == 1:\n",
    "        return \"Not a Fake News\"\n",
    "    \n",
    "# A function for manual testing    \n",
    "def manual_testing(news):\n",
    "    testing_news = {\"text\" : [news]}\n",
    "    new_def_test = pd.DataFrame(testing_news)\n",
    "    new_def_test[\"text\"] = new_def_test[\"text\"].apply(wordopt)\n",
    "    new_x_test = new_def_test[\"text\"]\n",
    "    new_xv_test = vectorization.transform(new_x_test)\n",
    "    pred_LR = LR.predict(new_xv_test)\n",
    "    pred_DT = DT.predict(new_xv_test)\n",
    "    pred_GB = GB.predict(new_xv_test)\n",
    "    pred_RF = RF.predict(new_xv_test)\n",
    "    \n",
    "    return print(\"\\n\\nLR Prediction: {} \\nDT Prediciton: {} \\nGBC Prediciton: {} \\nRFC Prediciton: {}\".format(output_lable(pred_LR[0]), output_lable(pred_DT[0]),output_lable(pred_GB[0]),output_lable(pred_RF[0])))"
   ],
   "metadata": {
    "collapsed": false,
    "ExecuteTime": {
     "end_time": "2023-12-17T22:06:46.685735Z",
     "start_time": "2023-12-17T22:06:46.630067Z"
    }
   },
   "id": "f7cbbd8b3433f694"
  },
  {
   "cell_type": "code",
   "execution_count": 198,
   "outputs": [
    {
     "name": "stdout",
     "output_type": "stream",
     "text": [
      "\n",
      "\n",
      "LR Prediction: Fake News \n",
      "DT Prediciton: Fake News \n",
      "GBC Prediciton: Fake News \n",
      "RFC Prediciton: Fake News\n"
     ]
    }
   ],
   "source": [
    "news = str(input())\n",
    "manual_testing(news)"
   ],
   "metadata": {
    "collapsed": false,
    "ExecuteTime": {
     "end_time": "2023-12-17T22:06:55.511429Z",
     "start_time": "2023-12-17T22:06:46.641952Z"
    }
   },
   "id": "82e06dbe30b551f5"
  },
  {
   "cell_type": "code",
   "execution_count": 198,
   "outputs": [],
   "source": [],
   "metadata": {
    "collapsed": false,
    "ExecuteTime": {
     "end_time": "2023-12-17T22:06:55.512964Z",
     "start_time": "2023-12-17T22:06:55.372953Z"
    }
   },
   "id": "a10b35fe9d14248f"
  }
 ],
 "metadata": {
  "kernelspec": {
   "display_name": "Python 3",
   "language": "python",
   "name": "python3"
  },
  "language_info": {
   "codemirror_mode": {
    "name": "ipython",
    "version": 2
   },
   "file_extension": ".py",
   "mimetype": "text/x-python",
   "name": "python",
   "nbconvert_exporter": "python",
   "pygments_lexer": "ipython2",
   "version": "2.7.6"
  }
 },
 "nbformat": 4,
 "nbformat_minor": 5
}
